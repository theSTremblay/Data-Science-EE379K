{
 "cells": [
  {
   "cell_type": "code",
   "execution_count": null,
   "metadata": {},
   "outputs": [],
   "source": [
    "### Put your NAME and EID here:"
   ]
  },
  {
   "cell_type": "markdown",
   "metadata": {},
   "source": []
  },
  {
   "cell_type": "markdown",
   "metadata": {},
   "source": [
    "# Problem Set 0: Programming"
   ]
  },
  {
   "cell_type": "markdown",
   "metadata": {},
   "source": [
    "In this first assignment, we want you to get familiar with jupyter notebooks as well as common Python packages that will be used in this class. If you need any help, refer to the documentation hints for the problems.\n",
    "\n",
    "Also make sure you have the following packages installed for Python3:\n",
    "\n",
    "- numpy\n",
    "- matplotlib"
   ]
  },
  {
   "cell_type": "code",
   "execution_count": null,
   "metadata": {},
   "outputs": [],
   "source": [
    "# imports needed\n",
    "import numpy as np\n",
    "import matplotlib.pyplot as plt\n",
    "\n",
    "# setting seed, DO NOT modify\n",
    "np.random.seed(10)"
   ]
  },
  {
   "cell_type": "markdown",
   "metadata": {},
   "source": [
    "## Problem 1"
   ]
  },
  {
   "cell_type": "markdown",
   "metadata": {},
   "source": [
    "For each of the following distributions, complete both **part A** and **part B**.\n",
    "\n",
    "1. Uniform: $[0, 1]$\n",
    "2. Normal: $\\mu = 0;\\ \\sigma^2 = 1$\n",
    "3. Exponential: $\\lambda = 2$\n"
   ]
  },
  {
   "cell_type": "markdown",
   "metadata": {},
   "source": [
    "### Part A.\n",
    "\n",
    "Generate a sample of ** 500 points **.\n",
    "\n",
    "\n",
    "Useful modules:\n",
    "    - numpy.random (.uniform, .normal, .exponential)"
   ]
  },
  {
   "cell_type": "code",
   "execution_count": null,
   "metadata": {},
   "outputs": [],
   "source": [
    "# enter code here"
   ]
  },
  {
   "cell_type": "markdown",
   "metadata": {},
   "source": [
    "### Part B.\n",
    "\n",
    "Plot separate histograms for each (with **bin size 10**). \n",
    "\n",
    "Make sure to **title each** with the respective distribution (uniform, normal, exponential).\n",
    "\n",
    "Useful modules:\n",
    "      - matplotlib.pyplot.hist"
   ]
  },
  {
   "cell_type": "code",
   "execution_count": null,
   "metadata": {},
   "outputs": [],
   "source": [
    "# code here"
   ]
  },
  {
   "cell_type": "markdown",
   "metadata": {},
   "source": [
    "## Problem 2"
   ]
  },
  {
   "cell_type": "markdown",
   "metadata": {},
   "source": [
    "### Part A.\n",
    "\n",
    "We will now explore a simple linear regression problem. Your first task will be to:\n",
    "\n",
    "- Find the **ps0.data** file and load it in using numpy.\n",
    "    - The array in this file should have **shape** of **(1000,101)**.\n",
    "    - The **y-value** to be regressed to is the **final column**, and the **features** to be used will be found in the **first 100**.\n",
    "    \n",
    "- Plot the data points using the **2nd feature** (for the x-axis) and **y-value**. Make sure it is a **scatter plot.**\n",
    "    - For the purposes of this assignment, we will start counting from **1.** \n",
    "    - e.g. If **X** stores your features with shape (1000,100), then **X[0]** will be the **1st feature**.\n",
    "\n",
    "Useful modules:\n",
    "\n",
    "    - numpy.load\n",
    "    - matplotlib.pyplot.scatter"
   ]
  },
  {
   "cell_type": "code",
   "execution_count": null,
   "metadata": {},
   "outputs": [],
   "source": [
    "# code here"
   ]
  },
  {
   "cell_type": "markdown",
   "metadata": {},
   "source": [
    "### Part B.\n",
    "\n",
    "Now, our goal is to solve the linear regression. Recall that if $X$ stores our features and we are trying to predict $y$, then we want to solve for $\\beta$ using **least-squares**:\n",
    "\n",
    "$$ \\min_\\beta \\sum_i ||y - X\\beta||^2 $$\n",
    "\n",
    "Because $X$ has more data points than features, the following provides our solution:\n",
    "\n",
    "$$ \\beta = (X^{T}X)^{-1}X^Ty $$\n",
    "\n",
    "- Code this up using numpy, to find the $\\beta$ for each feature.\n",
    "- If you explore $\\beta$, you might notice that most elements are very small. Thus, find the **top 10 features** and their respective **values in $\\beta$**. **Sort by decreasing value**.\n",
    "    - The top 10 values should be determined by their magnitudes.\n",
    "    - You can just print out the indeces of these features as well as their values.\n",
    "    \n",
    "Useful modules:\n",
    "    - numpy.linalg.inv\n",
    "    - numpy.transpose\n",
    "    - numpy.argsort\n",
    "    "
   ]
  },
  {
   "cell_type": "code",
   "execution_count": null,
   "metadata": {},
   "outputs": [],
   "source": [
    "# code here"
   ]
  },
  {
   "cell_type": "markdown",
   "metadata": {},
   "source": [
    "## Turn in Instructions"
   ]
  },
  {
   "cell_type": "markdown",
   "metadata": {},
   "source": [
    "Once you have completed Problems 1 and 2, please submit (for this part of the assignment):\n",
    "\n",
    "- This .ipynb file.\n",
    "- A PDF version of this file. To do this:\n",
    "    1. Go to File -> Download as -> HTML\n",
    "    2. Open the HTML and Print, and change the **destination** to **PDF**."
   ]
  }
 ],
 "metadata": {
  "kernelspec": {
   "display_name": "Python 3",
   "language": "python",
   "name": "python3"
  },
  "language_info": {
   "codemirror_mode": {
    "name": "ipython",
    "version": 3
   },
   "file_extension": ".py",
   "mimetype": "text/x-python",
   "name": "python",
   "nbconvert_exporter": "python",
   "pygments_lexer": "ipython3",
   "version": "3.6.4"
  }
 },
 "nbformat": 4,
 "nbformat_minor": 2
}
